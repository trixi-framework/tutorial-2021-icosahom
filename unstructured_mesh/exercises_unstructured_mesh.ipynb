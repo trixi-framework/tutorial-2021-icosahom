{
 "cells": [
  {
   "cell_type": "markdown",
   "metadata": {},
   "source": [
    "# Tutorial on Trixi.jl at ICOSAHOM 2021\n",
    "\n",
    "## Exercises: Unstructured curvilinear quadrilateral solver\n",
    "\n",
    "### Andrew Winters\n",
    "\n",
    "## Authors and license\n",
    "\n",
    "This material is distributed by Michael Schlottke-Lakemper, Hendrik Ranocha and Andrew Winters under the MIT license."
   ]
  },
  {
   "cell_type": "markdown",
   "metadata": {},
   "source": [
    "# Before you begin these exercises\n",
    "\n",
    "Follow the instructions to install Julia, Trixi, and Trixi2Vtk provided in the Jupyter notebook `introduction_to_trixi.ipynb`\n",
    "or watch the video on [YouTube](https://www.youtube.com/watch?v=g5fzNX6Jivw).\n",
    "\n",
    "Copy the files `box_with_object.control` and `tutorial_unstructured_exercise_3.jl` into your Trixi.jl directory.\n",
    "\n",
    "The commands and problem setups in this exercise set were set up and tested with Julia v1.6.1 but may also work with other (newer) versions."
   ]
  },
  {
   "cell_type": "markdown",
   "metadata": {},
   "source": [
    "# Exercise 1: Run and visualize your first unstructured simulation\n",
    "\n",
    "Trixi supports solving hyperbolic problems on several mesh types. Unstructured curvilinear quadrilateral meshes is\n",
    "one such option. There is a default example for this mesh type that can be executed by"
   ]
  },
  {
   "cell_type": "code",
   "execution_count": null,
   "metadata": {},
   "outputs": [],
   "source": [
    "using Trixi\n",
    "trixi_include(default_example_unstructured())"
   ]
  },
  {
   "cell_type": "markdown",
   "metadata": {},
   "source": [
    "This will compute a smooth, manufactured solution test case for the 2D compressible Euler equations\n",
    "on the curved quadrilateral mesh described in the\n",
    "[Trixi documentation](https://trixi-framework.github.io/Trixi.jl/stable/meshes/unstructured_quad_mesh/).\n",
    "\n",
    "Apart from the usual error and timing output provided by the Trixi run, it is useful to visualize and inspect\n",
    "the solution. Currently, for solutions on unstructured quadrilateral meshes, this requires post-processing the\n",
    "Trixi output file(s) using the `Trixi2Vtk` tool and plotting them with [ParaView](https://www.paraview.org/download/).\n",
    "\n",
    "To convert the HDF5-formatted `.h5` output file(s) from Trixi into VTK format execute the following"
   ]
  },
  {
   "cell_type": "code",
   "execution_count": null,
   "metadata": {},
   "outputs": [],
   "source": [
    "using Trixi2Vtk\n",
    "\n",
    "trixi2vtk(\"out/solution_000180.h5\", output_directory=\"out\")"
   ]
  },
  {
   "cell_type": "markdown",
   "metadata": {},
   "source": [
    "Note this step takes 15-30 seconds as the package `Trixi2Vtk` must be precompiled and executed for the first time\n",
    "in your REPL session. The above `trixi2vtk` command will convert the solution file at the final time into a `.vtu` file\n",
    "which can be readin and visualize with ParaView. An optional argument for `trixi2vtk` is to point to the `output_directory`\n",
    "where the new files will be saved; it defaults to the current directory. An optional argument that can be set with `trixi2vtk` is to specify the number of\n",
    "visualization nodes. For instance, if we want to use 12 uniformly spaced nodes for visualization we can execute"
   ]
  },
  {
   "cell_type": "code",
   "execution_count": null,
   "metadata": {},
   "outputs": [],
   "source": [
    "trixi2vtk(\"out/solution_000180.h5\", output_directory=\"out\", nvisnodes=12)"
   ]
  },
  {
   "cell_type": "markdown",
   "metadata": {},
   "source": [
    "By default `trixi2vtk` sets `nvisnodes` to be the same as the number of nodes specified in\n",
    "the `elixir` file used to run the simulation.\n",
    "\n",
    "Finally, if you want to convert all the solution files to VTK execute"
   ]
  },
  {
   "cell_type": "code",
   "execution_count": null,
   "metadata": {},
   "outputs": [],
   "source": [
    "trixi2vtk(\"out/solution_000*\", output_directory=\"out\", nvisnodes=12)"
   ]
  },
  {
   "cell_type": "markdown",
   "metadata": {},
   "source": [
    "then it is possible to open the `.pvd` file with ParaView and create a video of the simulation."
   ]
  },
  {
   "cell_type": "markdown",
   "metadata": {},
   "source": [
    "# Exercise 2: Generate an unstructured quadrilateral mesh for use in Trixi\n",
    "\n",
    "Where did the mesh used in the default unstructured example of the previous exercise come from?\n",
    "For the elixir files present in `examples/unstructured_2d_dgsem/` certain\n",
    "mesh files are automatically downloaded and used for the Trixi execution. For instance, after executing *Exercise 1*\n",
    "you will now see the file `mesh_trixi_unstructured_mesh_docs.mesh` in the `examples/unstructured_2d_dgsem/` folder.\n",
    "\n",
    "This exercise, divided into three components, provides some background detail on the mesh generator\n",
    "of the Trixi toolchain and how it can be called directly in Julia to create mesh files locally for a Trixi\n",
    "simulation."
   ]
  },
  {
   "cell_type": "markdown",
   "metadata": {},
   "source": [
    "## Exercise 2a: Obtain the mesh generator\n",
    "\n",
    "To obtain unstructured curvilinear quadrilateral meshes in the format required by Trixi we use the\n",
    "[*High-Order Hex-Quad Mesh (HOHQMesh)*](https://github.com/trixi-framework/HOHQMesh) generator created and developed by David Kopriva.\n",
    "HOHQMesh is a mesh generator specifically designed for spectral element methods where elements can be larger (due to the high accuracy\n",
    "of the spatial approximation) and provides high-order boundary curve information (needed to accurately set boundary conditions).\n",
    "For more information about the design and features of HOHQMesh you can refer to its\n",
    "[official documentation](https://trixi-framework.github.io/HOHQMesh/).\n",
    "\n",
    "HOHQMesh is incorporated in the Trixi framework via the registered Julia package\n",
    "[HOHQMesh.jl](https://github.com/trixi-framework/HOHQMesh.jl).\n",
    "This package provides a Julia wrapper for the HOHQMesh generator that allows users to easily create mesh files without the need to build\n",
    "HOHQMesh from source. To install the HOHQMesh package execute"
   ]
  },
  {
   "cell_type": "code",
   "execution_count": null,
   "metadata": {},
   "outputs": [],
   "source": [
    "import Pkg; Pkg.add(\"HOHQMesh\")"
   ]
  },
  {
   "cell_type": "markdown",
   "metadata": {},
   "source": [
    "Now we are ready to generate an unstructured quadrilateral mesh that can be used by Trixi."
   ]
  },
  {
   "cell_type": "markdown",
   "metadata": {},
   "source": [
    "## Exercise 2b: Explanation of a HOHQMesh control file\n",
    "\n",
    "The creation of a mesh using the HOHQMesh generator is driven by a **control file**. Is this file the user dictates\n",
    "the domain to be meshed, prescribes any desired boundary curvature, the polynomial order of said boundaries, etc.\n",
    "In this tutorial we only cover several basic features of the possible control inputs. For a complete discussion\n",
    "on this topic see the [HOHQMesh control file documentation](https://trixi-framework.github.io/HOHQMesh/the-control-file/).\n",
    "\n",
    "Open the file [`box_with_object.control`](box_with_object.control) provided by this tutorial. To begin we note that blank space or anything after a `%` is ignored\n",
    "by HOHQMesh at readin. The first three blocks of information are wrapped within a `CONTROL_INPUT` environment block as they define the\n",
    "core components of the quadrilateral mesh that will be generated.\n",
    "\n",
    "The first block of information in `RUN_PARAMETERS` is\n",
    "```\n",
    "\\begin{RUN_PARAMETERS}\n",
    "   mesh file name   = box_with_object.mesh\n",
    "   plot file name   = box_with_object.tec\n",
    "   stats file name  = none\n",
    "   mesh file format = ISM-v2\n",
    "   polynomial order = 4\n",
    "   plot file format = skeleton\n",
    "\\end{RUN_PARAMETERS}\n",
    "```\n",
    "The mesh and plot file names will be the files created by HOHQMesh once successfully executed. The stats file name is\n",
    "available if you wish to also save a collection of mesh statistics. For this example it is deactivated.\n",
    "These file names given within `RUN_PARAMETERS` **should match** that of the control file, although this is not required by\n",
    "HOHQMesh it is a useful style convention.\n",
    "The mesh file format `ISM-v2` in the format currently required by Trixi. The `polynomial order` prescribes the order\n",
    "of an interpolant constructed on the Chebyshev-Gauss-Lobatto nodes that is used to represent any curved boundaries on a particular element.\n",
    "The plot file format of `skeleton` means that visualizing the plot file will only draw the element boundaries (and no internal nodes).\n",
    "Alternatively, the format can be set to `sem` to visualize the interior nodes of the approximation as well.\n",
    "\n",
    "The second block of information in `BACKGOUND_GRID`is\n",
    "```\n",
    "\\begin{BACKGROUND_GRID}\n",
    "   x0 = [-3.0, -3.0, 0.0]\n",
    "   dx = [1.0, 1.0, 0.0]\n",
    "   N  = [6,6,1]\n",
    "\\end{BACKGROUND_GRID}\n",
    "```\n",
    "This lays a grid of Cartesian elements for the domain beginning at the point `x0` as its bottom-left corner.\n",
    "The value of `dx`, which could differ in each direction if desired, controls the step size taken in each Cartesian direction.\n",
    "The values in `N` set how many Cartesian box elements are set in each coordinate direction.\n",
    "The above parameters define a $`6\\times 6`$ element square mesh on $`[-3,3]^2`$.\n",
    "Further, this sets up four outer boundaries of the domain that are given the default names: `Top, Left, Bottom, Right`.\n",
    "\n",
    "The third block of information in `SPRING_SMOOTHER` is\n",
    "```\n",
    "\\begin{SPRING_SMOOTHER}\n",
    "   smoothing            = ON\n",
    "   smoothing type       = LinearAndCrossBarSpring\n",
    "   number of iterations = 25\n",
    "\\end{SPRING_SMOOTHER}\n",
    "```\n",
    "Once HOHQMesh generates the mesh, a spring-mass-dashpot model is created to smooth the mesh and create \"nicer\" quadrilateral elements.\n",
    "The [default parameters of Hooke's law](https://trixi-framework.github.io/HOHQMesh/the-control-input/#the-smoother)\n",
    "for the spring-mass-dashpot model have been selected after a fair amount of experimentation across many meshes.\n",
    "If you wish to deactivate this feature you can set `smoothing = OFF` (or remove this block from the control file).\n",
    "\n",
    "After the `CONTROL_INPUT` environment block comes the `MODEL` environment block. It is here where the user can prescribe curved boundary information with either:\n",
    "* An `OUTER_BOUNDARY` (not covered in this tutorial).\n",
    "* One or more `INNER_BOUNDARIES`.\n",
    "\n",
    "There are several options to describe the boundary curve data to HOHQMesh like splines or parametric curves.\n",
    "\n",
    "For the example `box_with_object.control` we define a single internal boundary using a parametric equation\n",
    "for a circle of radius $`r`$ centered at the point $`(x_c, y_c)`$, i.e.,\n",
    "```math\n",
    "x(t) = x_c + r\\cos(2\\pi t), y(t) = y_c + r\\sin(2\\pi t)\n",
    "```\n",
    "where we select the radius to be $`r=0.3`$ and the center to be the origin.\n",
    "Within the HOHQMesh control input each curve must be assigned to a `CHAIN` as shown below in the complete\n",
    "`INNER_BOUNDARIES` block\n",
    "```\n",
    "\\begin{INNER_BOUNDARIES}\n",
    "   \\begin{CHAIN}\n",
    "       name = InnerCircle1\n",
    "       \\begin{PARAMETRIC_EQUATION_CURVE}\n",
    "          name = Circle\n",
    "          xEqn = x(t) = 0.0 + 0.3*cos(2*pi*t)\n",
    "          yEqn = y(t) = 0.0 + 0.3*sin(2*pi*t)\n",
    "          zEqn = z(t) = 0.0\n",
    "      \\end{PARAMETRIC_EQUATION_CURVE}\n",
    "   \\end{CHAIN}\n",
    "\\end{INNER_BOUNDARIES}\n",
    "```\n",
    "It is important to note there are two `name` quantities one for the `CHAIN` and one for the `PARAMETRIC_EQUATION_CURVE`.\n",
    "The name for the `CHAIN` is used internally by HOHQMesh, so if you have multiple `CHAIN`s they **must be given a unique name**.\n",
    "The name for the `PARAMETRIC_EQUATION_CURVE` with be printed to the appropriate boundaries within the `.mesh` file produced by\n",
    "HOHQMesh. Trixi uses this boundary name to assign boundary conditions in an elixir file as done next in *Exercise 3*."
   ]
  },
  {
   "cell_type": "markdown",
   "metadata": {},
   "source": [
    "## Exercise 2c: Generate an unstructured quadrilateral mesh\n",
    "\n",
    "To generate the mesh with a box around a circular object execute"
   ]
  },
  {
   "cell_type": "code",
   "execution_count": null,
   "metadata": {},
   "outputs": [],
   "source": [
    "control_file = joinpath(@__DIR__, \"box_with_object.control\");\n",
    "output = generate_mesh(control_file);\n",
    "println(output)"
   ]
  },
  {
   "cell_type": "markdown",
   "metadata": {},
   "source": [
    "This will print something like the following to the screen:\n",
    "```\n",
    "2D Mesh Statistics:\n",
    "    Total time         =    1.7602999999999997E-002\n",
    "    Number of nodes    =           92\n",
    "    Number of Edges    =          168\n",
    "    Number of Elements =           76\n",
    " Mesh Quality:\n",
    "         Measure         Minimum         Maximum         Average  Acceptable Low Acceptable High       Reference\n",
    "     Signed Area      0.10579233      1.10071875      0.47033476      0.00000000    999.99900000      1.00000000\n",
    "    Aspect Ratio      1.05389898      1.69573058      1.30167550      1.00000000    999.99900000      1.00000000\n",
    "       Condition      1.01321897      1.62533776      1.18031828      1.00000000      4.00000000      1.00000000\n",
    "      Edge Ratio      1.09106716      2.33179023      1.58568019      1.00000000      4.00000000      1.00000000\n",
    "        Jacobian      0.06133180      1.00000000      0.36883992      0.00000000    999.99900000      1.00000000\n",
    "   Minimum Angle     52.27247662     84.58464452     70.10239116     40.00000000     90.00000000     90.00000000\n",
    "   Maximum Angle     95.22816021    136.94984543    111.79951337     90.00000000    135.00000000     90.00000000\n",
    "       Area Sign      1.00000000      1.00000000      1.00000000      1.00000000      1.00000000      1.00000000\n",
    "```\n",
    "The third command that prints the mesh statistics to the screen is optional. The `box_with_object.mesh` and `box_with_object.tec` files\n",
    "are placed into the `out/` by default. You can visualize the mesh that was just generated also using ParaView simply\n",
    "select \"Tecplot Reader\" when prompted after opening the `box_with_object.tec` file.\n",
    "From such a visualization it appears that the mesh does not have a curved interior boundary, but this is an artifact of plotting software\n",
    "combined with using `plot file format = skeleton` in the `RUN_PARAMETERS`.\n",
    "\n",
    "Regenerate the mesh but change the control file to use `plot file format = sem`, execute"
   ]
  },
  {
   "cell_type": "code",
   "execution_count": null,
   "metadata": {},
   "outputs": [],
   "source": [
    "output = generate_mesh(control_file);"
   ]
  },
  {
   "cell_type": "markdown",
   "metadata": {},
   "source": [
    "and re-load the `box_with_object.tec` file in ParaView to also visualize that internal mesh points/boundary curvature."
   ]
  },
  {
   "cell_type": "markdown",
   "metadata": {},
   "source": [
    "# Exercise 3: Run and visualize on `box_with_object.mesh`\n",
    "\n",
    "With the new mesh generated from *Exercise 2* we are ready to run another Trixi simulation on an unstructured quadrilateral mesh.\n",
    "For this we must create a new elixir file. As in *Exercise 1* we will solve the 2D compressible Euler equations.\n",
    "\n",
    "The elixir file `tutorial_unstructured_exercise_3.jl` already creates a new initial condition for a\n",
    "uniform background flow state with a free stream Mach number of 0.3.\n",
    "An exercise dedicated to modifying the initial conditions is provided in `exercises_linear_advection.ipynb` for\n",
    "the linear advection equations.\n",
    "\n",
    "The focus of this exercise is to specify the boundary conditions and to construct the new mesh from the\n",
    "file that was generated in the previous exercise. It is straightforward to set the different boundary\n",
    "condition types in an elixir by assigning a particular function to a boundary name inside a\n",
    "Julia dictionary, `Dict`, variable. Observe that the names of these boundaries match those provided by HOHQMesh\n",
    "either by default, e.g. `Bottom`, or user assigned, e.g. `Circle`. For this problem setup use\n",
    "* Freestream boundary conditions on the four box edges\n",
    "* Free slip wall boundary condition on the interior circular boundary\n",
    "\n",
    "Construct the boundary condition and correctly load your mesh file by completing the code provided in\n",
    "[`tutorial_unstructured_exercise_3.jl`](tutorial_unstructured_exercise_3.jl), reproduced here:"
   ]
  },
  {
   "cell_type": "code",
   "execution_count": null,
   "metadata": {},
   "outputs": [],
   "source": [
    "using OrdinaryDiffEq\n",
    "using Trixi\n",
    "equations = CompressibleEulerEquations2D(1.4) # set gas gamma = 1.4\n",
    "# freestream flow state with Ma_inf = 0.3\n",
    "@inline function uniform_flow_state(x, t, equations::CompressibleEulerEquations2D)\n",
    "  # set the freestream flow parameters\n",
    "  rho_freestream = 1.0\n",
    "  u_freestream = 0.3\n",
    "  p_freestream = inv(equations.gamma)\n",
    "  theta = 0.0 # zero angle of attack\n",
    "  si, co = sincos(theta)\n",
    "  v1 = u_freestream * co\n",
    "  v2 = u_freestream * si\n",
    "  prim = SVector(rho_freestream, v1, v2, p_freestream)\n",
    "  return prim2cons(prim, equations)\n",
    "end\n",
    "# initial condition\n",
    "initial_condition = uniform_flow_state\n",
    "# boundary condition types\n",
    "boundary_condition_uniform_flow = BoundaryConditionDirichlet(uniform_flow_state)\n",
    "boundary_condition_slip_wall = BoundaryConditionWall(boundary_state_slip_wall)\n",
    "# boundary condition dictionary\n",
    "boundary_conditions = Dict( :Bottom => ,# Your code can be written here\n",
    "                            :Top    => ,# Your code can be written here\n",
    "                            :Right  => ,# Your code can be written here\n",
    "                            :Left   => ,# Your code can be written here\n",
    "                            :Circle =>  # Your code can be written here\n",
    "                            )\n",
    "# DGSEM solver.\n",
    "#    1) polydeg must be >= the polynomial order set in the HOHQMesh control file to guarantee\n",
    "#       freestream preservation. As a extra task try setting polydeg=3\n",
    "#    2) VolumeIntegralFluxDifferencing with central volume flux is activated\n",
    "#       for dealiasing\n",
    "volume_flux = flux_ranocha\n",
    "solver = DGSEM(polydeg=4, surface_flux=flux_hll,\n",
    "               volume_integral=VolumeIntegralFluxDifferencing(volume_flux))\n",
    "# create the unstructured from your mesh file\n",
    "mesh_file = # Your code can be written here\n",
    "mesh = UnstructuredMesh2D(mesh_file)\n",
    "# Create semidiscretization with all spatial discretization-related components\n",
    "semi = SemidiscretizationHyperbolic(mesh, equations, initial_condition, solver,\n",
    "                                    boundary_conditions=boundary_conditions)\n",
    "# Create ODE problem from semidiscretization with time span from 0.0 to 2.0\n",
    "tspan = (0.0, 2.0)\n",
    "ode = semidiscretize(semi, tspan)\n",
    "# Create the callbacks to output timing information, solution files, and adapt the time step\n",
    "summary_callback = SummaryCallback()\n",
    "save_solution = SaveSolutionCallback(interval=10,\n",
    "                                     save_initial_solution=true,\n",
    "                                     save_final_solution=true)\n",
    "stepsize_callback = StepsizeCallback(cfl=1.0)\n",
    "callbacks = CallbackSet(summary_callback, save_solution, stepsize_callback)\n",
    "# Evolve ODE problem in time using `solve` from OrdinaryDiffEq\n",
    "sol = solve(ode, CarpenterKennedy2N54(williamson_condition=false),\n",
    "            dt=1.0, # solve needs some value here but it will be overwritten by the stepsize_callback\n",
    "            save_everystep=false, callback=callbacks);\n",
    "# print the timer summary\n",
    "summary_callback()"
   ]
  },
  {
   "cell_type": "markdown",
   "metadata": {},
   "source": [
    "Before we run this simulation it is always a good idea to \"clean\" the Trixi output directory\n",
    "and remove any old solution and/or plotting files with\n",
    "```shell\n",
    "rm out/*.h5 out/*.vtu\n",
    "```\n",
    "\n",
    "Once you have modified the elixir file `tutorial_unstructured_exercise_3.jl` appropriately you are ready to execute\n",
    "your next unstructured Trixi simulation with"
   ]
  },
  {
   "cell_type": "code",
   "execution_count": null,
   "metadata": {},
   "outputs": [],
   "source": [
    "trixi_include(\"tutorial_unstructured_exercise_3.jl\")"
   ]
  },
  {
   "cell_type": "markdown",
   "metadata": {},
   "source": [
    "The simulation should use 131 time steps. You can convert the solution files to VTK on ten visualization nodes with"
   ]
  },
  {
   "cell_type": "code",
   "execution_count": null,
   "metadata": {},
   "outputs": [],
   "source": [
    "trixi2vtk(\"out/solution_000*\", output_directory=\"out\", nvisnodes=10)"
   ]
  },
  {
   "cell_type": "markdown",
   "metadata": {},
   "source": [
    "then open the `.pvd` file in ParaView and watch the solution video."
   ]
  },
  {
   "cell_type": "markdown",
   "metadata": {},
   "source": [
    "# Exercise 4: Generate a mesh with two objects and run again\n",
    "\n",
    "The final exercise is to demonstrate the ease with which the user can update a new mesh and\n",
    "modify an existing elixir file to run a new simulation.\n",
    "\n",
    "To begin \"clean\" the Trixi output directory of old solution/plotting files with\n",
    "```\n",
    "rm out/*.h5 out/*.vtu out/*.pvd\n",
    "```\n",
    "Next, create a new HOHQMesh control file\n",
    "```\n",
    "cp box_with_object.control box_with_two_objects.control\n",
    "```\n",
    "and update the `mesh file name` and `plot file name` appropriately in your new control file.\n",
    "Modify the new `box_with_two_objects.control` file to include an additional `CHAIN` inside\n",
    "the `INNER_BOUNDARIES` control block to include a second inner boundary that is an ellipse\n",
    "with the parametric equation\n",
    "\n",
    "\\begin{equation}\n",
    "x(t) = 0.6\\cos(2\\pi t), y(t) = 1.0 + 0.3\\sin(2\\pi t)\n",
    "\\end{equation}\n",
    "\n",
    "using the skeleton\n",
    "```\n",
    "   \\begin{CHAIN}\n",
    "       name =\n",
    "       \\begin{PARAMETRIC_EQUATION_CURVE}\n",
    "          name =\n",
    "          xEqn = x(t) =\n",
    "          yEqn = y(t) =\n",
    "          zEqn = z(t) = 0.0\n",
    "      \\end{PARAMETRIC_EQUATION_CURVE}\n",
    "   \\end{CHAIN}\n",
    "```\n",
    "Remember to give this second `CHAIN` and `PARAMETRIC_EQUATION_CURVE` unique names!\n",
    "Generate this new mesh with a box around a two objects by executing the following"
   ]
  },
  {
   "cell_type": "code",
   "execution_count": null,
   "metadata": {},
   "outputs": [],
   "source": [
    "control_file = joinpath(@__DIR__, \"box_with_two_objects.control\");\n",
    "output = generate_mesh(control_file);\n",
    "println(output)"
   ]
  },
  {
   "cell_type": "markdown",
   "metadata": {},
   "source": [
    "which will print something like the following:\n",
    "```\n",
    " 2D Mesh Statistics:\n",
    "    Total time         =    5.1164000000000001E-002\n",
    "    Number of nodes    =          293\n",
    "    Number of Edges    =          552\n",
    "    Number of Elements =          258\n",
    " Mesh Quality:\n",
    "         Measure         Minimum         Maximum         Average  Acceptable Low Acceptable High       Reference\n",
    "     Signed Area      0.00455048      1.08825939      0.13629291      0.00000000    999.99900000      1.00000000\n",
    "    Aspect Ratio      1.03122978      2.53677069      1.32813030      1.00000000    999.99900000      1.00000000\n",
    "       Condition      1.00153121      4.54755364      1.22372928      1.00000000      4.00000000      1.00000000\n",
    "      Edge Ratio      1.05206342      8.96626016      1.67425779      1.00000000      4.00000000      1.00000000\n",
    "        Jacobian      0.00084206      1.00000000      0.09816746      0.00000000    999.99900000      1.00000000\n",
    "   Minimum Angle     35.35965372     88.73787332     68.90605888     40.00000000     90.00000000     90.00000000\n",
    "   Maximum Angle     91.44219947    135.33499769    112.90953573     90.00000000    135.00000000     90.00000000\n",
    "       Area Sign      1.00000000      1.00000000      1.00000000      1.00000000      1.00000000      1.00000000\n",
    "```\n",
    "We provide the mesh statistics output as a reference. There should now appear new\n",
    "`box_with_two_objects.mesh` and `box_with_two_objects.tec` files in your `out/` folder.\n",
    "\n",
    "Next, modify your elixir file from *Exercise 3* to set a free slip wall boundary condition\n",
    "on the new elliptical object and load your new mesh file into the `UnstructuredMesh2D`.\n",
    "Execute this modified elixir file"
   ]
  },
  {
   "cell_type": "code",
   "execution_count": null,
   "metadata": {},
   "outputs": [],
   "source": [
    "trixi_include(\"tutorial_unstructured_exercise_3.jl\")"
   ]
  },
  {
   "cell_type": "markdown",
   "metadata": {},
   "source": [
    "which will run for 1362 time steps. Similar as before, you can convert the solution files to VTK on\n",
    "ten visualization nodes with"
   ]
  },
  {
   "cell_type": "code",
   "execution_count": null,
   "metadata": {},
   "outputs": [],
   "source": [
    "trixi2vtk(\"out/solution_00*\", output_directory=\"out\", nvisnodes=10)"
   ]
  },
  {
   "cell_type": "markdown",
   "metadata": {},
   "source": [
    "Then open the `.pvd` file in ParaView and watch the solution video on your two object simulation."
   ]
  }
 ],
 "metadata": {
  "kernelspec": {
   "display_name": "Julia 1.6.1",
   "language": "julia",
   "name": "julia-1.6"
  },
  "language_info": {
   "file_extension": ".jl",
   "mimetype": "application/julia",
   "name": "julia",
   "version": "1.6.1"
  }
 },
 "nbformat": 4,
 "nbformat_minor": 4
}
