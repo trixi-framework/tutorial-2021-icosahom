{
 "cells": [
  {
   "cell_type": "markdown",
   "metadata": {
    "slideshow": {
     "slide_type": "slide"
    }
   },
   "source": [
    "<!-- <img src=\"media/titlepage.png\" width=\"100%\"> -->\n",
    "\n",
    "\n",
    "# Tutorial on Trixi.jl at ICOSAHOM 2021\n",
    "\n",
    "## Exercises: Linear advection\n",
    "\n",
    "### Michael Schlottke-Lakemper, Hendrik Ranocha \n",
    "\n",
    "\n",
    "- Follow along at https://git.io/JcDM1\n",
    "- Launch MyBinder at https://tinyurl.com/fk6m5ev9\n",
    "<!--   (https://mybinder.org/v2/gh/trixi-framework/tutorial-2021-icosahom/HEAD?filepath=exercises_euler.ipynb) -->"
   ]
  },
  {
   "cell_type": "markdown",
   "metadata": {
    "slideshow": {
     "slide_type": "skip"
    }
   },
   "source": [
    "## Further information on running this notebook\n",
    "\n",
    "This introduction is available as a Jupyter notebook at https://github.com/trixi-framework/tutorial-2021-icosahom, including information how to set up everything. For more information about Trixi and how to use it, please visit [Trixi on GitHub](https://github.com/trixi-framework/Trixi.jl) or refer to the [official documentation](https://trixi-framework.github.io/Trixi.jl/stable/). \n",
    "\n",
    "This notebook was set up and tested with Julia v1.6.1 but may also work with other (newer) versions.\n",
    "\n",
    "*Note:* If you change a variable in a later cell and then re-execute an earlier cell, the results might change unexpectedly. Thus if in doubt, re-run the entire notebook *in order*. The reason is that all cells in a Jupyter notebooks share a common variable space.\n",
    "\n",
    "*Note:* This notebook is tested using Chromium. Most parts should also work for other browsers such as Firefox, but the videos used in the last demonstrations might not be displayed correctly.\n",
    "\n",
    "\n",
    "## Authors and license\n",
    "\n",
    "This material is distributed by Michael Schlottke-Lakemper and Hendrik Ranocha under the MIT license."
   ]
  },
  {
   "cell_type": "markdown",
   "metadata": {},
   "source": [
    "# Exercise 1: Kelvin-Helmholtz instability\n",
    "\n",
    "You have probably seen the [video of a Kevin Helmholtz instability simulated using adaptive mesh refinement (AMR)](https://youtu.be/JV7NGyVtgLc) in the introduction to Trixi.jl. The setup is provided as an example distributed with Trixi.jl.\n",
    "\n",
    "### Task\n",
    "\n",
    "1. Find out how to run this simulation on your own.\n",
    "2. Plot the numerical solution at the final time.\n",
    "3. Which numerical flux is used at surfaces? Which other numerical fluxes are available?\n",
    "4. Experiment with some parameters. For example, you can increase the resolution.\n",
    "\n",
    "First hints:\n",
    "- Where are the examples distributed with Trixi?\n",
    "- You can run a simulation described in an elixir using `trixi_include`."
   ]
  },
  {
   "cell_type": "code",
   "execution_count": null,
   "metadata": {},
   "outputs": [],
   "source": [
    "using Trixi, OrdinaryDiffEq\n",
    "using Plots: plot\n",
    "\n",
    "# Your code can be written here"
   ]
  },
  {
   "cell_type": "markdown",
   "metadata": {},
   "source": [
    "<details>\n",
    "\n",
    "<summary>\n",
    "\n",
    "View additional hints (click on this line to expand it if you really want)\n",
    "\n",
    "</summary>\n",
    "\n",
    "- Look at `get_examples()`\n",
    "- `filter(contains(\"kelvin\"), get_examples())`\n",
    "- `trixi_include(joinpath(examples_dir(), \"tree_2d_dgsem\", \"elixir_euler_kelvin_helmholtz_instability_amr.jl\"))`\n",
    "- Copy & paste the code of the elixir in the Jupyter notebook and modify it there.\n",
    "- Alternatively, you can modify parameters via keyword arguments of `trixi_include`.\n",
    "- `plot(sol)`\n",
    "- Type `flux_` and TAB.\n",
    "- For example, you can use `flux_hll` instead of `flux_lax_friedrichs`.\n",
    "- Search docstrings using something like `apropos(\"Harten\")`.\n",
    "    \n",
    "</details>\n"
   ]
  },
  {
   "cell_type": "markdown",
   "metadata": {},
   "source": [
    "# Exercise 2: Find other test cases\n",
    "\n",
    "There are a lot of examples distributed with Trixi.jl. Which other standard test cases do you recognize?\n",
    "\n",
    "### Task\n",
    "\n",
    "1. Find other test cases that you know and run them.\n",
    "2. Plot the numerical solution at the final time. \n",
    "3. Experiment with some parameters. For example, you can increase the resolution.\n",
    "\n",
    "First hints:\n",
    "- Where are the examples distributed with Trixi?\n",
    "- You can run a simulation described in an elixir using `trixi_include`."
   ]
  },
  {
   "cell_type": "code",
   "execution_count": null,
   "metadata": {},
   "outputs": [],
   "source": [
    "using Trixi, OrdinaryDiffEq\n",
    "using Plots: plot\n",
    "\n",
    "# Your code can be written here"
   ]
  },
  {
   "cell_type": "markdown",
   "metadata": {},
   "source": [
    "<details>\n",
    "\n",
    "<summary>\n",
    "\n",
    "View additional hints (click on this line to expand it if you really want)\n",
    "\n",
    "</summary>\n",
    "\n",
    "- `filter(contains(\"kelvin\"), get_examples())`\n",
    "- `filter(contains(\"taylor\"), get_examples())`\n",
    "- `filter(contains(\"tube\"), get_examples())`\n",
    "- `filter(contains(\"blast\"), get_examples())`\n",
    "- `filter(contains(\"vortex\"), get_examples())`\n",
    "- If you are interested in MHD: `filter(contains(\"alfven\"), get_examples())`\n",
    "- If you are interested in MHD: `filter(contains(\"rotor\"), get_examples())`\n",
    "    \n",
    "</details>\n"
   ]
  }
 ],
 "metadata": {
  "kernelspec": {
   "display_name": "Julia 1.6.1",
   "language": "julia",
   "name": "julia-1.6"
  },
  "language_info": {
   "file_extension": ".jl",
   "mimetype": "application/julia",
   "name": "julia",
   "version": "1.6.1"
  }
 },
 "nbformat": 4,
 "nbformat_minor": 4
}
