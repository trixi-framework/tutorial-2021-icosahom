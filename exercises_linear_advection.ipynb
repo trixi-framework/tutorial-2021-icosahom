{
 "cells": [
  {
   "cell_type": "markdown",
   "metadata": {
    "slideshow": {
     "slide_type": "slide"
    }
   },
   "source": [
    "<!-- <img src=\"media/titlepage.png\" width=\"100%\"> -->\n",
    "\n",
    "\n",
    "# Tutorial on Trixi.jl at ICOSAHOM 2021\n",
    "\n",
    "## Exercises: Linear advection\n",
    "\n",
    "### Michael Schlottke-Lakemper, Hendrik Ranocha \n",
    "\n",
    "\n",
    "- Follow along at https://git.io/JcDM1\n",
    "- Launch MyBinder at https://tinyurl.com/khs92bk2\n",
    "  (https://mybinder.org/v2/gh/trixi-framework/tutorial-2021-icosahom/HEAD?filepath=exercises_linear_advection.ipynb)"
   ]
  },
  {
   "cell_type": "markdown",
   "metadata": {
    "slideshow": {
     "slide_type": "skip"
    }
   },
   "source": [
    "## Further information on running this notebook\n",
    "\n",
    "This introduction is available as a Jupyter notebook at https://github.com/trixi-framework/tutorial-2021-icosahom, including information how to set up everything. For more information about Trixi and how to use it, please visit [Trixi on GitHub](https://github.com/trixi-framework/Trixi.jl) or refer to the [official documentation](https://trixi-framework.github.io/Trixi.jl/stable/). \n",
    "\n",
    "This notebook was set up and tested with Julia v1.6.1 but may also work with other (newer) versions.\n",
    "\n",
    "*Note:* If you change a variable in a later cell and then re-execute an earlier cell, the results might change unexpectedly. Thus if in doubt, re-run the entire notebook *in order*. The reason is that all cells in a Jupyter notebooks share a common variable space.\n",
    "\n",
    "*Note:* This notebook is tested using Chromium. Most parts should also work for other browsers such as Firefox, but the videos used in the last demonstrations might not be displayed correctly.\n",
    "\n",
    "\n",
    "## Authors and license\n",
    "\n",
    "This material is distributed by Michael Schlottke-Lakemper and Hendrik Ranocha under the MIT license."
   ]
  },
  {
   "cell_type": "markdown",
   "metadata": {},
   "source": [
    "# Exercise 1: Modify an initial condition\n",
    "\n",
    "The code below solves the linear advection equation\n",
    "\n",
    "$$\n",
    "    \\partial_t u + \\partial_{x_1} u + \\partial_{x_2} u = 0\n",
    "$$\n",
    "\n",
    "with periodic boundary conditions in the domain $[-1, 1]^2$. The initial condition\n",
    "\n",
    "$$\n",
    "    u(0, x) = 1 + \\frac{1}{2} \\sin(2 \\pi (x_1 + x_2))\n",
    "$$\n",
    "\n",
    "is defined in Trixi as `initial_condition_convergence_test`.\n",
    "\n",
    "### Task\n",
    "\n",
    "Find out how to implement your own initial condition, e.g.\n",
    "\n",
    "$$\n",
    "    u(0, x) = \\sin(\\pi x_1) \\cos(\\pi x_2)\n",
    "$$"
   ]
  },
  {
   "cell_type": "code",
   "execution_count": null,
   "metadata": {},
   "outputs": [],
   "source": [
    "using Trixi, OrdinaryDiffEq\n",
    "using Plots: plot\n",
    "using Printf\n",
    "\n",
    "advectionvelocity = (1.0, 1.0)\n",
    "equations = LinearScalarAdvectionEquation2D(advectionvelocity)\n",
    "\n",
    "solver = DGSEM(polydeg=3, surface_flux=flux_lax_friedrichs)\n",
    "\n",
    "# Create a uniformely refined mesh with periodic boundaries\n",
    "coordinates_min = (-1.0, -1.0) # lower left corner of the square\n",
    "coordinates_max = ( 1.0,  1.0) # upper right corner of the square\n",
    "mesh_static = TreeMesh(coordinates_min, coordinates_max,\n",
    "                       initial_refinement_level=4, n_cells_max=10^5)\n",
    "\n",
    "# Create semidiscretization with all spatial discretization-related components\n",
    "semi = SemidiscretizationHyperbolic(mesh_static, equations,\n",
    "                                    initial_condition_convergence_test,\n",
    "                                    solver)\n",
    "\n",
    "# Create ODE problem from semidiscretization with time span from 0.0 to 1.0\n",
    "ode = semidiscretize(semi, (0.0, 1.0))\n",
    "\n",
    "# Evolve ODE problem in time using `solve` from OrdinaryDiffEq\n",
    "sol = solve(ode, BS3(), saveat=range(ode.tspan..., length=6))\n",
    "\n",
    "# Plot the solution at different times\n",
    "plot(map(i -> plot(sol.u[i], semi, title=@sprintf(\"\\$ t = %.2f \\$\", sol.t[i])), \n",
    "        eachindex(sol.t))..., size=(1200, 550))"
   ]
  },
  {
   "cell_type": "code",
   "execution_count": null,
   "metadata": {},
   "outputs": [],
   "source": [
    "# Your code can be written here"
   ]
  },
  {
   "cell_type": "markdown",
   "metadata": {},
   "source": [
    "<details>\n",
    "\n",
    "<summary>\n",
    "\n",
    "View a possible solution (click on this line to expand it if you really want)\n",
    "\n",
    "</summary>\n",
    "    \n",
    "```julia\n",
    "function my_initial_condition(x, t, equation::LinearScalarAdvectionEquation2D)\n",
    "  # Store translated coordinate for easy use of exact solution\n",
    "  x_trans = x - equation.advectionvelocity * t\n",
    "\n",
    "  scalar = sin(pi * x[1]) * cos(pi * x[2])\n",
    "  return SVector(scalar)\n",
    "end\n",
    "```\n",
    "    \n",
    "</details>\n"
   ]
  },
  {
   "cell_type": "markdown",
   "metadata": {},
   "source": [
    "# Exercise 2: Modify a numerical flux\n",
    "\n",
    "We have used the local Lax-Friedrichs (Rusanov) flux, which coincides with the Godunov flux for this simple test case. This numerical flux is implemented as `flux_lax_friedrichs` in Trixi.\n",
    "\n",
    "### Task\n",
    "\n",
    "Find out how to implement your own numerical flux for this specific test case. You may use your knowledge of the `advectionvelocity`. Given left and right states `u_ll, u_rr`, a general numerical flux in Cartesian coordinate `direction` may use a parameter `factor` to blend a purely central flux and a purely upwind flux.\n",
    "\n",
    "In one space dimension, such a numerical flux for the advection equation with constant unit velocity may look like\n",
    "\n",
    "$$\n",
    "    f^\\mathrm{num}(u_l, u_r) = \\alpha u_l + (1 - \\alpha) u_r\n",
    "$$"
   ]
  },
  {
   "cell_type": "code",
   "execution_count": null,
   "metadata": {},
   "outputs": [],
   "source": [
    "using Trixi, OrdinaryDiffEq\n",
    "using Plots: plot\n",
    "using Printf\n",
    "\n",
    "advectionvelocity = (1.0, 1.0)\n",
    "equations = LinearScalarAdvectionEquation2D(advectionvelocity)\n",
    "\n",
    "solver = DGSEM(polydeg=3, surface_flux=flux_lax_friedrichs)\n",
    "\n",
    "# Create a uniformely refined mesh with periodic boundaries\n",
    "coordinates_min = (-1.0, -1.0) # lower left corner of the square\n",
    "coordinates_max = ( 1.0,  1.0) # upper right corner of the square\n",
    "mesh_static = TreeMesh(coordinates_min, coordinates_max,\n",
    "                       initial_refinement_level=4, n_cells_max=10^5)\n",
    "\n",
    "# Create semidiscretization with all spatial discretization-related components\n",
    "semi = SemidiscretizationHyperbolic(mesh_static, equations,\n",
    "                                    initial_condition_convergence_test,\n",
    "                                    solver)\n",
    "\n",
    "# Create ODE problem from semidiscretization with time span from 0.0 to 1.0\n",
    "ode = semidiscretize(semi, (0.0, 1.0))\n",
    "\n",
    "# Evolve ODE problem in time using `solve` from OrdinaryDiffEq\n",
    "sol = solve(ode, BS3(), saveat=range(ode.tspan..., length=6))\n",
    "\n",
    "# Plot the solution at different times\n",
    "plot(map(i -> plot(sol.u[i], semi, title=@sprintf(\"\\$ t = %.2f \\$\", sol.t[i])), \n",
    "        eachindex(sol.t))..., size=(1200, 550))"
   ]
  },
  {
   "cell_type": "code",
   "execution_count": null,
   "metadata": {},
   "outputs": [],
   "source": [
    "# Your code can be written here"
   ]
  },
  {
   "cell_type": "markdown",
   "metadata": {},
   "source": [
    "<details>\n",
    "\n",
    "<summary>\n",
    "\n",
    "View a possible solution (click on this line to expand it if you really want)\n",
    "\n",
    "</summary>\n",
    "    \n",
    "```julia\n",
    "@inline function my_numerical_flux(u_ll, u_rr, direction::Integer, equation::LinearScalarAdvectionEquation2D)\n",
    "  a = equation.advectionvelocity[orientation]\n",
    "\n",
    "  # We know that the advection velocity is positive. Thus, we can\n",
    "  # pick the left state to get a pure upwind flux.\n",
    "  return a * u_ll\n",
    "end\n",
    "```\n",
    "    \n",
    "</details>\n"
   ]
  },
  {
   "cell_type": "markdown",
   "metadata": {},
   "source": [
    "# Exercise 3: Choose another time integration method\n",
    "\n",
    "We have used the third-order method `BS3()` Of Bogacki and Shampine from OrdinaryDiffEq.jl, which is part of the DifferentialEquations.jl ecosystem in Julia.\n",
    "\n",
    "### Task\n",
    "\n",
    "1. Experiment with different time integration methods. Find out where you can obtain information about methods implemented in OrdinaryDiffEq.jl. Which are developed specifically for hyperbolic problems?\n",
    "2. How can you modify the tolerances (absolute and relative) of methods with error based step size control?\n",
    "3. How can you use time step control via a CFL condition in Trixi?"
   ]
  },
  {
   "cell_type": "code",
   "execution_count": null,
   "metadata": {},
   "outputs": [],
   "source": [
    "using Trixi, OrdinaryDiffEq\n",
    "using Plots: plot\n",
    "using Printf\n",
    "\n",
    "advectionvelocity = (1.0, 1.0)\n",
    "equations = LinearScalarAdvectionEquation2D(advectionvelocity)\n",
    "\n",
    "solver = DGSEM(polydeg=3, surface_flux=flux_lax_friedrichs)\n",
    "\n",
    "# Create a uniformely refined mesh with periodic boundaries\n",
    "coordinates_min = (-1.0, -1.0) # lower left corner of the square\n",
    "coordinates_max = ( 1.0,  1.0) # upper right corner of the square\n",
    "mesh_static = TreeMesh(coordinates_min, coordinates_max,\n",
    "                       initial_refinement_level=4, n_cells_max=10^5)\n",
    "\n",
    "# Create semidiscretization with all spatial discretization-related components\n",
    "semi = SemidiscretizationHyperbolic(mesh_static, equations,\n",
    "                                    initial_condition_convergence_test,\n",
    "                                    solver)\n",
    "\n",
    "# Create ODE problem from semidiscretization with time span from 0.0 to 1.0\n",
    "ode = semidiscretize(semi, (0.0, 1.0))\n",
    "\n",
    "# Evolve ODE problem in time using `solve` from OrdinaryDiffEq\n",
    "sol = solve(ode, BS3(), saveat=range(ode.tspan..., length=6))\n",
    "\n",
    "# Plot the solution at different times\n",
    "plot(map(i -> plot(sol.u[i], semi, title=@sprintf(\"\\$ t = %.2f \\$\", sol.t[i])), \n",
    "        eachindex(sol.t))..., size=(1200, 550))"
   ]
  },
  {
   "cell_type": "code",
   "execution_count": null,
   "metadata": {},
   "outputs": [],
   "source": [
    "# Your code can be written here"
   ]
  },
  {
   "cell_type": "markdown",
   "metadata": {},
   "source": [
    "<details>\n",
    "\n",
    "<summary>\n",
    "\n",
    "View some hints (click on this line to expand it if you really want)\n",
    "\n",
    "</summary>\n",
    "\n",
    "- Documentation of DiffEq: https://diffeq.sciml.ai/dev/\n",
    "- Time integration methods for hyperbolic problems\n",
    "  - [SSP methods](https://diffeq.sciml.ai/dev/solvers/ode_solve/#Explicit-Strong-Stability-Preserving-Runge-Kutta-Methods-for-Hyperbolic-PDEs-(Conservation-Laws))\n",
    "  - [Low-storage methods](https://diffeq.sciml.ai/dev/solvers/ode_solve/#Low-Storage-Methods)\n",
    "- Tolerances `abstol, reltol` via keyword arguments, cf. https://diffeq.sciml.ai/dev/basics/common_solver_opts/#Stepsize-Control\n",
    "- Look at the documentation of the [`StepsizeCallback`](https://trixi-framework.github.io/Trixi.jl/stable/callbacks/#CFL-based-time-step-control)\n",
    "    \n",
    "</details>\n"
   ]
  },
  {
   "cell_type": "code",
   "execution_count": null,
   "metadata": {},
   "outputs": [],
   "source": []
  }
 ],
 "metadata": {
  "kernelspec": {
   "display_name": "Julia 1.6.1",
   "language": "julia",
   "name": "julia-1.6"
  },
  "language_info": {
   "file_extension": ".jl",
   "mimetype": "application/julia",
   "name": "julia",
   "version": "1.6.1"
  }
 },
 "nbformat": 4,
 "nbformat_minor": 4
}
